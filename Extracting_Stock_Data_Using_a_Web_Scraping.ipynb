{
 "cells": [
  {
   "cell_type": "markdown",
   "id": "4b084534-b956-4bbc-adc9-76cbd76b63e1",
   "metadata": {},
   "source": [
    "<center>\n",
    "    <img src=\"https://cf-courses-data.s3.us.cloud-object-storage.appdomain.cloud/IBMDeveloperSkillsNetwork-PY0220EN-SkillsNetwork/labs/project/Images/SN_logo.png\" width=\"300\" alt=\"cognitiveclass.ai logo\">\n",
    "</center>\n"
   ]
  },
  {
   "cell_type": "markdown",
   "id": "95eb7a90-e735-4b85-bd8a-7f12069eaf03",
   "metadata": {},
   "source": [
    "<h1>Extracting Stock Data Using a Web Scraping</h1>\n"
   ]
  },
  {
   "cell_type": "markdown",
   "id": "455f7607-4964-4d2b-99c6-c534237d0f24",
   "metadata": {},
   "source": [
    "Not all stock data is available via the API in this assignment; you will use web-scraping to obtain financial data. You will be quizzed on your results.  \n",
    " You will extract and share historical data from a web page using the BeautifulSoup library.\n"
   ]
  },
  {
   "cell_type": "markdown",
   "id": "b20594c1-714b-467d-89df-afb6f28a8a9a",
   "metadata": {},
   "source": [
    "<h2>Table of Contents</h2>\n",
    "<div class=\"alert alert-block alert-info\" style=\"margin-top: 20px\">\n",
    "    \n",
    "1. Extracting data using BeautifulSoup\n",
    "   \n",
    "    <ul> \n",
    "    <li> Download the web page Using Requests Library </li>\n",
    "    <li> Parse HTML on a web page using BeautifulSoup </li>\n",
    "    <li> Extract data and duild a data frame </li>\n",
    "\n",
    "    </ul>\n",
    "\n",
    "2. Extracting data using pandas\n",
    "</div>\n",
    "\n",
    "<hr>\n"
   ]
  },
  {
   "cell_type": "code",
   "execution_count": null,
   "id": "356ccbcd-b89d-4de3-ab78-c25da40658d4",
   "metadata": {},
   "outputs": [],
   "source": [
    "!pip install pandas\n",
    "!pip install requests\n",
    "!pip install bs4\n",
    "!pip install html5lib \n",
    "!pip install lxml\n",
    "!pip install plotly"
   ]
  },
  {
   "cell_type": "code",
   "execution_count": 1,
   "id": "c6d9581c-aa4d-4d8e-8ddb-ff4e79d58ba1",
   "metadata": {},
   "outputs": [],
   "source": [
    "import pandas as pd\n",
    "import requests\n",
    "from bs4 import BeautifulSoup"
   ]
  },
  {
   "cell_type": "markdown",
   "id": "7bd8f2a7-bea1-46ba-85ef-7177e3205d49",
   "metadata": {},
   "source": [
    "In Python, you can ignore warnings using the warnings module. You can use the filterwarnings function to filter or ignore specific warning messages or categories."
   ]
  },
  {
   "cell_type": "code",
   "execution_count": 2,
   "id": "033048f7-f8e6-4d76-b3a8-fa87f872190c",
   "metadata": {},
   "outputs": [],
   "source": [
    "import warnings\n",
    "# Ignore all warnings\n",
    "warnings.filterwarnings(\"ignore\", category=FutureWarning)"
   ]
  },
  {
   "cell_type": "markdown",
   "id": "9e9001de-6b3a-451f-98b1-265dbaaccb6b",
   "metadata": {},
   "source": [
    "## Using Webscraping to Extract Stock Data Example\n"
   ]
  },
  {
   "cell_type": "markdown",
   "id": "4caafa1e-a108-416d-a56f-f4722c10b12c",
   "metadata": {},
   "source": [
    "We will extract Netflix stock data [https://cf-courses-data.s3.us.cloud-object-storage.appdomain.cloud/IBMDeveloperSkillsNetwork-PY0220EN-SkillsNetwork/labs/project/netflix_data_webpage.html](https://cf-courses-data.s3.us.cloud-object-storage.appdomain.cloud/IBMDeveloperSkillsNetwork-PY0220EN-SkillsNetwork/labs/project/netflix_data_webpage.html).\n"
   ]
  },
  {
   "cell_type": "markdown",
   "id": "13658ff6-5908-4966-80f9-d88827357b1e",
   "metadata": {},
   "source": [
    "<center> \n",
    "    \n",
    "#### In this example, we are using yahoo finance website and looking to extract Netflix data.\n",
    "\n",
    "</center>\n",
    "    <br>\n",
    "\n",
    "  <img src=\"https://cf-courses-data.s3.us.cloud-object-storage.appdomain.cloud/IBMDeveloperSkillsNetwork-PY0220EN-SkillsNetwork/labs/project/Images/netflix.png\"> </center> \n",
    "  \n",
    "<center> Fig:- Table that we need to extract </center>\n"
   ]
  },
  {
   "cell_type": "markdown",
   "id": "33e7a0ec-e5b9-466c-8725-6c5e8e7231fc",
   "metadata": {},
   "source": [
    "On the following web page we have a table with columns name (Date, Open, High, Low, close, adj close volume) out of which we must extract following columns  \n",
    "\n",
    "* Date \n",
    "\n",
    "* Open  \n",
    "\n",
    "* High \n",
    "\n",
    "* Low \n",
    "\n",
    "* Close \n",
    "\n",
    "* Volume \n",
    "\n"
   ]
  },
  {
   "cell_type": "markdown",
   "id": "237561a1-9025-4ea4-bf50-22b938e5c81f",
   "metadata": {},
   "source": [
    "# Steps for extracting the data\n",
    "1. Send an HTTP request to the web page using the requests library.\n",
    "2. Parse the HTML content of the web page using BeautifulSoup.\n",
    "3. Identify the HTML tags that contain the data you want to extract.\n",
    "4. Use BeautifulSoup methods to extract the data from the HTML tags.\n",
    "5. Print the extracted data\n"
   ]
  },
  {
   "cell_type": "markdown",
   "id": "342dd26c-0040-42e1-917e-70584a475a42",
   "metadata": {},
   "source": [
    "### Step 1: Send an HTTP request to the web page\n"
   ]
  },
  {
   "cell_type": "markdown",
   "id": "8e370c9e-5632-4349-8a54-ff6419445ffe",
   "metadata": {},
   "source": [
    "You will use the request library for sending an HTTP request to the web page."
   ]
  },
  {
   "cell_type": "code",
   "execution_count": 3,
   "id": "e35109bf-b55e-4223-83b8-b45c708f54f4",
   "metadata": {},
   "outputs": [],
   "source": [
    "url = \"https://cf-courses-data.s3.us.cloud-object-storage.appdomain.cloud/IBMDeveloperSkillsNetwork-PY0220EN-SkillsNetwork/labs/project/netflix_data_webpage.html\""
   ]
  },
  {
   "cell_type": "markdown",
   "id": "85308a3e-1ca7-44f4-9404-ef5cfcf91d32",
   "metadata": {},
   "source": [
    "The requests.get() method takes a URL as its first argument, which specifies the location of the resource to be retrieved. In this case, the value of the url variable is passed as the argument to the requests.get() method, because you will store a web page URL in a url variable.\n",
    "\n",
    "You use the .text method for extracting the HTML content as a string in order to make it readable.\n",
    "\n"
   ]
  },
  {
   "cell_type": "code",
   "execution_count": 4,
   "id": "981624a2-3058-4e6b-8347-989c48ecd8cc",
   "metadata": {},
   "outputs": [],
   "source": [
    "data  = requests.get(url).text\n",
    "#print(data)"
   ]
  },
  {
   "cell_type": "markdown",
   "id": "ebf7c271-7d1a-4b51-9099-2e93eeb5f231",
   "metadata": {},
   "source": [
    "### Step 2: Parse the HTML content\n"
   ]
  },
  {
   "cell_type": "markdown",
   "id": "f7c68f3b-62a0-4bf0-acd4-8ad399d6a9b3",
   "metadata": {},
   "source": [
    "<hr>\n",
    "<hr>\n",
    "<center>\n",
    "\n",
    "# What is parsing?\n",
    "In simple words, parsing refers to the process of analyzing a string of text or a data structure, usually following a set of rules or grammar, to understand its structure and meaning.\n",
    "Parsing involves breaking down a piece of text or data into its individual components or elements, and then analyzing those components to extract the desired information or to understand their relationships and meanings.</center>\n",
    "<hr>\n",
    "<hr>\n"
   ]
  },
  {
   "cell_type": "markdown",
   "id": "e4425dc3-c842-4e88-ac62-fcd31650746f",
   "metadata": {},
   "source": [
    "Next you will take the raw HTML content of a web page or a string of HTML code which needs to be parsed and transformed into a structured, hierarchical format that can be more easily analyzed and manipulated in Python. This can be done using a Python library called <b>Beautiful Soup</b>.\n"
   ]
  },
  {
   "cell_type": "markdown",
   "id": "cd2b672d-7482-44c8-8f69-92327828574d",
   "metadata": {},
   "source": [
    "## Parsing the data using the BeautifulSoup library\n",
    "* Create a new BeautifulSoup object.\n",
    "<br>\n",
    "<br>\n",
    "<b>Note: </b>To create a BeautifulSoup object in Python, you need to pass two arguments to its constructor:\n",
    "\n",
    "1. The HTML or XML content that you want to parse as a string.\n",
    "2. The name of the parser that you want to use to parse the HTML or XML content. This argument is optional, and if you don't specify a parser, BeautifulSoup will use the default HTML parser included with the library.\n",
    "here in this lab we are using \"html5lib\" parser.\n"
   ]
  },
  {
   "cell_type": "code",
   "execution_count": 5,
   "id": "25f85630-c195-458e-9424-4b26d74e2af3",
   "metadata": {},
   "outputs": [],
   "source": [
    "soup = BeautifulSoup(data, 'html.parser')"
   ]
  },
  {
   "cell_type": "markdown",
   "id": "d13786cd-bb5e-4041-802a-5d808695a293",
   "metadata": {},
   "source": [
    "### Step 3: Identify the HTML tags\n"
   ]
  },
  {
   "cell_type": "markdown",
   "id": "7cedeb6c-0f5d-4a6c-9075-9e9f0225701b",
   "metadata": {},
   "source": [
    "As stated above, the web page consists of a table so, we will scrape the content of the HTML web page and convert the table into a data frame."
   ]
  },
  {
   "cell_type": "markdown",
   "id": "980364b9-e7ab-4813-a3fb-bdde9cef5219",
   "metadata": {},
   "source": [
    "You will create an empty data frame using the <b> pd.DataFrame() </b> function with the following columns:\n",
    "* \"Date\"\n",
    "* \"Open\"\n",
    "* \"High\" \n",
    "* \"Low\" \n",
    "* \"Close\"\n",
    "* \"Volume\"\n"
   ]
  },
  {
   "cell_type": "code",
   "execution_count": 6,
   "id": "6e67ff0e-ab12-48f8-abe2-4e073428772d",
   "metadata": {},
   "outputs": [],
   "source": [
    "netflix_data = pd.DataFrame(columns=[\"Date\", \"Open\", \"High\", \"Low\", \"Close\", \"Volume\"])"
   ]
  },
  {
   "cell_type": "markdown",
   "id": "4d529716-4a4b-4f91-976f-4a2a72da2bc4",
   "metadata": {},
   "source": [
    "<hr>\n",
    "<hr>\n",
    "<center>\n",
    "\n",
    "### Working on HTML table  </center>\n",
    "<br>\n",
    "\n",
    "These are the following tags which are used while creating HTML tables.\n",
    "\n",
    "* &lt;table&gt;: This tag is a root tag used to define the start and end of the table. All the content of the table is enclosed within these tags. \n",
    "\n",
    "\n",
    "* &lt;tr&gt;: This tag is used to define a table row. Each row of the table is defined within this tag.\n",
    "\n",
    "* &lt;td&gt;: This tag is used to define a table cell. Each cell of the table is defined within this tag. You can specify the content of the cell between the opening and closing <td> tags.\n",
    "\n",
    "* &lt;th&gt;: This tag is used to define a header cell in the table. The header cell is used to describe the contents of a column or row. By default, the text inside a <th> tag is bold and centered.\n",
    "\n",
    "* &lt;tbody&gt;: This is the main content of the table, which is defined using the <tbody> tag. It contains one or more rows of <tr> elements.\n",
    "\n",
    "<hr>\n",
    "<hr>\n",
    "\n"
   ]
  },
  {
   "cell_type": "markdown",
   "id": "c96b26be-944e-4f71-98d0-46a141b0b079",
   "metadata": {},
   "source": [
    "### Step 4: Use a BeautifulSoup method for extracting data\n"
   ]
  },
  {
   "cell_type": "markdown",
   "id": "531b5cd2-cdcd-4d1a-8c30-3499d69beb31",
   "metadata": {},
   "source": [
    "\n",
    "We will use <b>find()</b> and <b>find_all()</b> methods of the BeautifulSoup object to locate the table body and table row respectively in the HTML. \n",
    "   * The <i>find() method </i> will return particular tag content.\n",
    "   * The <i>find_all()</i> method returns a list of all matching tags in the HTML.\n"
   ]
  },
  {
   "cell_type": "code",
   "execution_count": 7,
   "id": "ba3bd1ef-ea6b-4787-bcc4-b1669f885d97",
   "metadata": {},
   "outputs": [],
   "source": [
    "# First we isolate the body of the table which contains all the information\n",
    "# Then we loop through each row and find all the column values for each row\n",
    "for row in soup.find(\"tbody\").find_all('tr'):\n",
    "    col = row.find_all(\"td\")\n",
    "    date = col[0].text\n",
    "    Open = col[1].text\n",
    "    high = col[2].text\n",
    "    low = col[3].text\n",
    "    close = col[4].text\n",
    "    adj_close = col[5].text\n",
    "    volume = col[6].text\n",
    "    \n",
    "    # Finally we append the data of each row to the table\n",
    "    netflix_data = pd.concat([netflix_data,pd.DataFrame({\"Date\":[date], \"Open\":[Open], \"High\":[high], \"Low\":[low], \"Close\":[close], \"Adj Close\":[adj_close], \"Volume\":[volume]})], ignore_index=True)    "
   ]
  },
  {
   "cell_type": "markdown",
   "id": "ed840564-3ac4-4360-a61a-a6d6da6b7161",
   "metadata": {},
   "source": [
    "### Step 5: Print the extracted data\n"
   ]
  },
  {
   "cell_type": "markdown",
   "id": "bfd9c744-0422-45ae-a44d-bcd555579196",
   "metadata": {},
   "source": [
    "We can now print out the data frame using the head() or tail() function."
   ]
  },
  {
   "cell_type": "code",
   "execution_count": 8,
   "id": "d4e5b0b5-e016-4032-98c5-42eafecb2160",
   "metadata": {},
   "outputs": [
    {
     "data": {
      "text/html": [
       "<div>\n",
       "<style scoped>\n",
       "    .dataframe tbody tr th:only-of-type {\n",
       "        vertical-align: middle;\n",
       "    }\n",
       "\n",
       "    .dataframe tbody tr th {\n",
       "        vertical-align: top;\n",
       "    }\n",
       "\n",
       "    .dataframe thead th {\n",
       "        text-align: right;\n",
       "    }\n",
       "</style>\n",
       "<table border=\"1\" class=\"dataframe\">\n",
       "  <thead>\n",
       "    <tr style=\"text-align: right;\">\n",
       "      <th></th>\n",
       "      <th>Date</th>\n",
       "      <th>Open</th>\n",
       "      <th>High</th>\n",
       "      <th>Low</th>\n",
       "      <th>Close</th>\n",
       "      <th>Volume</th>\n",
       "      <th>Adj Close</th>\n",
       "    </tr>\n",
       "  </thead>\n",
       "  <tbody>\n",
       "    <tr>\n",
       "      <th>0</th>\n",
       "      <td>Jun 01, 2021</td>\n",
       "      <td>504.01</td>\n",
       "      <td>536.13</td>\n",
       "      <td>482.14</td>\n",
       "      <td>528.21</td>\n",
       "      <td>78,560,600</td>\n",
       "      <td>528.21</td>\n",
       "    </tr>\n",
       "    <tr>\n",
       "      <th>1</th>\n",
       "      <td>May 01, 2021</td>\n",
       "      <td>512.65</td>\n",
       "      <td>518.95</td>\n",
       "      <td>478.54</td>\n",
       "      <td>502.81</td>\n",
       "      <td>66,927,600</td>\n",
       "      <td>502.81</td>\n",
       "    </tr>\n",
       "    <tr>\n",
       "      <th>2</th>\n",
       "      <td>Apr 01, 2021</td>\n",
       "      <td>529.93</td>\n",
       "      <td>563.56</td>\n",
       "      <td>499.00</td>\n",
       "      <td>513.47</td>\n",
       "      <td>111,573,300</td>\n",
       "      <td>513.47</td>\n",
       "    </tr>\n",
       "    <tr>\n",
       "      <th>3</th>\n",
       "      <td>Mar 01, 2021</td>\n",
       "      <td>545.57</td>\n",
       "      <td>556.99</td>\n",
       "      <td>492.85</td>\n",
       "      <td>521.66</td>\n",
       "      <td>90,183,900</td>\n",
       "      <td>521.66</td>\n",
       "    </tr>\n",
       "    <tr>\n",
       "      <th>4</th>\n",
       "      <td>Feb 01, 2021</td>\n",
       "      <td>536.79</td>\n",
       "      <td>566.65</td>\n",
       "      <td>518.28</td>\n",
       "      <td>538.85</td>\n",
       "      <td>61,902,300</td>\n",
       "      <td>538.85</td>\n",
       "    </tr>\n",
       "  </tbody>\n",
       "</table>\n",
       "</div>"
      ],
      "text/plain": [
       "           Date    Open    High     Low   Close       Volume Adj Close\n",
       "0  Jun 01, 2021  504.01  536.13  482.14  528.21   78,560,600    528.21\n",
       "1  May 01, 2021  512.65  518.95  478.54  502.81   66,927,600    502.81\n",
       "2  Apr 01, 2021  529.93  563.56  499.00  513.47  111,573,300    513.47\n",
       "3  Mar 01, 2021  545.57  556.99  492.85  521.66   90,183,900    521.66\n",
       "4  Feb 01, 2021  536.79  566.65  518.28  538.85   61,902,300    538.85"
      ]
     },
     "execution_count": 8,
     "metadata": {},
     "output_type": "execute_result"
    }
   ],
   "source": [
    "netflix_data.head()"
   ]
  },
  {
   "cell_type": "markdown",
   "id": "2ba459fe-4b10-4396-8be8-5701b0c1d453",
   "metadata": {},
   "source": [
    "# Extracting data using `pandas` library\n"
   ]
  },
  {
   "cell_type": "markdown",
   "id": "e3ffa9d7-0ede-4021-819b-781e4eb268b3",
   "metadata": {},
   "source": [
    "We can also use the pandas `read_html` function from the pandas library and use the URL for extracting data.\n"
   ]
  },
  {
   "cell_type": "markdown",
   "id": "0a907d08-c554-4262-8c71-42404fcded0d",
   "metadata": {},
   "source": [
    "<center>\n",
    "\n",
    "## What is read_html in pandas library?\n",
    "`pd.read_html(url)` is a function provided by the pandas library in Python that is used to extract tables from HTML web pages. It takes in a URL as input and returns a list of all the tables found on the web page. \n",
    "</center>\n"
   ]
  },
  {
   "cell_type": "code",
   "execution_count": 9,
   "id": "08a5bad8-24a2-4a83-8fb9-cd533f086822",
   "metadata": {},
   "outputs": [],
   "source": [
    "read_html_pandas_data = pd.read_html(url)"
   ]
  },
  {
   "cell_type": "markdown",
   "id": "9d57b2c5-d05a-44d1-a62d-cfd1a7191f72",
   "metadata": {},
   "source": [
    "Or you can convert the BeautifulSoup object to a string."
   ]
  },
  {
   "cell_type": "code",
   "execution_count": 10,
   "id": "5aeed939-4a0d-4c37-b518-9be41149e401",
   "metadata": {},
   "outputs": [],
   "source": [
    "read_html_pandas_data = pd.read_html(str(soup))"
   ]
  },
  {
   "cell_type": "markdown",
   "id": "388db84e-e015-4c45-a140-175b417ae9c2",
   "metadata": {},
   "source": [
    "Because there is only one table on the page, just take the first table in the returned list."
   ]
  },
  {
   "cell_type": "code",
   "execution_count": 11,
   "id": "12e5d829-8c13-4099-b791-c8fceaff315c",
   "metadata": {},
   "outputs": [
    {
     "data": {
      "text/html": [
       "<div>\n",
       "<style scoped>\n",
       "    .dataframe tbody tr th:only-of-type {\n",
       "        vertical-align: middle;\n",
       "    }\n",
       "\n",
       "    .dataframe tbody tr th {\n",
       "        vertical-align: top;\n",
       "    }\n",
       "\n",
       "    .dataframe thead th {\n",
       "        text-align: right;\n",
       "    }\n",
       "</style>\n",
       "<table border=\"1\" class=\"dataframe\">\n",
       "  <thead>\n",
       "    <tr style=\"text-align: right;\">\n",
       "      <th></th>\n",
       "      <th>Date</th>\n",
       "      <th>Open</th>\n",
       "      <th>High</th>\n",
       "      <th>Low</th>\n",
       "      <th>Close*</th>\n",
       "      <th>Adj Close**</th>\n",
       "      <th>Volume</th>\n",
       "    </tr>\n",
       "  </thead>\n",
       "  <tbody>\n",
       "    <tr>\n",
       "      <th>0</th>\n",
       "      <td>Jun 01, 2021</td>\n",
       "      <td>504.01</td>\n",
       "      <td>536.13</td>\n",
       "      <td>482.14</td>\n",
       "      <td>528.21</td>\n",
       "      <td>528.21</td>\n",
       "      <td>78560600</td>\n",
       "    </tr>\n",
       "    <tr>\n",
       "      <th>1</th>\n",
       "      <td>May 01, 2021</td>\n",
       "      <td>512.65</td>\n",
       "      <td>518.95</td>\n",
       "      <td>478.54</td>\n",
       "      <td>502.81</td>\n",
       "      <td>502.81</td>\n",
       "      <td>66927600</td>\n",
       "    </tr>\n",
       "    <tr>\n",
       "      <th>2</th>\n",
       "      <td>Apr 01, 2021</td>\n",
       "      <td>529.93</td>\n",
       "      <td>563.56</td>\n",
       "      <td>499.00</td>\n",
       "      <td>513.47</td>\n",
       "      <td>513.47</td>\n",
       "      <td>111573300</td>\n",
       "    </tr>\n",
       "    <tr>\n",
       "      <th>3</th>\n",
       "      <td>Mar 01, 2021</td>\n",
       "      <td>545.57</td>\n",
       "      <td>556.99</td>\n",
       "      <td>492.85</td>\n",
       "      <td>521.66</td>\n",
       "      <td>521.66</td>\n",
       "      <td>90183900</td>\n",
       "    </tr>\n",
       "    <tr>\n",
       "      <th>4</th>\n",
       "      <td>Feb 01, 2021</td>\n",
       "      <td>536.79</td>\n",
       "      <td>566.65</td>\n",
       "      <td>518.28</td>\n",
       "      <td>538.85</td>\n",
       "      <td>538.85</td>\n",
       "      <td>61902300</td>\n",
       "    </tr>\n",
       "  </tbody>\n",
       "</table>\n",
       "</div>"
      ],
      "text/plain": [
       "           Date    Open    High     Low  Close* Adj Close**     Volume\n",
       "0  Jun 01, 2021  504.01  536.13  482.14  528.21      528.21   78560600\n",
       "1  May 01, 2021  512.65  518.95  478.54  502.81      502.81   66927600\n",
       "2  Apr 01, 2021  529.93  563.56  499.00  513.47      513.47  111573300\n",
       "3  Mar 01, 2021  545.57  556.99  492.85  521.66      521.66   90183900\n",
       "4  Feb 01, 2021  536.79  566.65  518.28  538.85      538.85   61902300"
      ]
     },
     "execution_count": 11,
     "metadata": {},
     "output_type": "execute_result"
    }
   ],
   "source": [
    "netflix_dataframe = read_html_pandas_data[0]\n",
    "\n",
    "netflix_dataframe.head()"
   ]
  },
  {
   "cell_type": "markdown",
   "id": "c8b556de-9238-4ecd-82cf-236d8173a5a2",
   "metadata": {},
   "source": [
    "# use webscraping to extract stock data\n"
   ]
  },
  {
   "cell_type": "markdown",
   "id": "db0ced93-8021-4ab6-8909-73813ce6ac65",
   "metadata": {},
   "source": [
    "Use the `requests` library to download the webpage [https://cf-courses-data.s3.us.cloud-object-storage.appdomain.cloud/IBMDeveloperSkillsNetwork-PY0220EN-SkillsNetwork/labs/project/amazon_data_webpage.html](https://cf-courses-data.s3.us.cloud-object-storage.appdomain.cloud/IBMDeveloperSkillsNetwork-PY0220EN-SkillsNetwork/labs/project/amazon_data_webpage.html). Save the text of the response as a variable named `html_data`.\n"
   ]
  },
  {
   "cell_type": "code",
   "execution_count": 16,
   "id": "9af1504b-86bd-4657-9cbd-9bfc4de68319",
   "metadata": {},
   "outputs": [],
   "source": [
    "url1=\"https://cf-courses-data.s3.us.cloud-object-storage.appdomain.cloud/IBMDeveloperSkillsNetwork-PY0220EN-SkillsNetwork/labs/project/amazon_data_webpage.html\""
   ]
  },
  {
   "cell_type": "code",
   "execution_count": 17,
   "id": "8cf65416-3e9c-4b09-9f1a-170d0c43face",
   "metadata": {},
   "outputs": [],
   "source": [
    "html_data=requests.get(url1).text"
   ]
  },
  {
   "cell_type": "markdown",
   "id": "d973aada-c33e-4196-8b24-c09c269b5f2f",
   "metadata": {},
   "source": [
    "Parse the html data using `beautiful_soup` using html.parser.\n"
   ]
  },
  {
   "cell_type": "code",
   "execution_count": 18,
   "id": "3305295e-2a9f-4415-a2f1-4964f281af0e",
   "metadata": {},
   "outputs": [],
   "source": [
    "soup=BeautifulSoup(html_data,'html.parser')"
   ]
  },
  {
   "cell_type": "markdown",
   "id": "357114db-1e57-4a9c-8eea-09ba077982ac",
   "metadata": {},
   "source": [
    "What is the content of the title attribute?"
   ]
  },
  {
   "cell_type": "code",
   "execution_count": 19,
   "id": "bd5825fb-b914-4c5a-84b7-05ee841d6b34",
   "metadata": {},
   "outputs": [
    {
     "data": {
      "text/plain": [
       "<title>Amazon.com, Inc. (AMZN) Stock Historical Prices &amp; Data - Yahoo Finance</title>"
      ]
     },
     "execution_count": 19,
     "metadata": {},
     "output_type": "execute_result"
    }
   ],
   "source": [
    "soup.title"
   ]
  },
  {
   "cell_type": "markdown",
   "id": "bde0280b-e53b-43eb-b0e8-a17514e86413",
   "metadata": {},
   "source": [
    "Using BeautifulSoup, extract the table with historical share prices and store it into a data frame named `amazon_data`. The data frame should have columns Date, Open, High, Low, Close, Adj Close, and Volume. Fill in each variable with the correct data from the list `col`. \n"
   ]
  },
  {
   "cell_type": "code",
   "execution_count": 20,
   "id": "acdda7b3-707b-4277-b417-48767abd4174",
   "metadata": {},
   "outputs": [],
   "source": [
    "amazon_data = pd.DataFrame(columns=[\"Date\", \"Open\", \"High\", \"Low\", \"Close\", \"Volume\"])\n",
    "\n",
    "for row in soup.find(\"tbody\").find_all(\"tr\"):\n",
    "    col = row.find_all(\"td\")\n",
    "    volume = col[6].text\n",
    "    date = col[0].text#ADD_CODE\n",
    "    Open =col[1].text #ADD_CODE\n",
    "    high = col[2].text#ADD_CODE\n",
    "    low = col[3].text#ADD_CODE\n",
    "    close =  col[4].text#ADD_CODE\n",
    "    adj_close = col[5].text#ADD_CODE\n",
    "    volume = col[6].text #ADD_CODE\n",
    "    \n",
    "    amazon_data = pd.concat([amazon_data, pd.DataFrame({\"Date\":[date], \"Open\":[Open], \"High\":[high], \"Low\":[low], \"Close\":[close], \"Adj Close\":[adj_close], \"Volume\":[volume]})], ignore_index=True)"
   ]
  },
  {
   "cell_type": "markdown",
   "id": "207a7101-8283-474f-8a5b-ce925aa6917b",
   "metadata": {},
   "source": [
    "Print out the first five rows of the `amazon_data` data frame you created.\n"
   ]
  },
  {
   "cell_type": "code",
   "execution_count": 21,
   "id": "14f5490c-674a-4f77-b261-44b71ffa7eb7",
   "metadata": {},
   "outputs": [
    {
     "data": {
      "text/html": [
       "<div>\n",
       "<style scoped>\n",
       "    .dataframe tbody tr th:only-of-type {\n",
       "        vertical-align: middle;\n",
       "    }\n",
       "\n",
       "    .dataframe tbody tr th {\n",
       "        vertical-align: top;\n",
       "    }\n",
       "\n",
       "    .dataframe thead th {\n",
       "        text-align: right;\n",
       "    }\n",
       "</style>\n",
       "<table border=\"1\" class=\"dataframe\">\n",
       "  <thead>\n",
       "    <tr style=\"text-align: right;\">\n",
       "      <th></th>\n",
       "      <th>Date</th>\n",
       "      <th>Open</th>\n",
       "      <th>High</th>\n",
       "      <th>Low</th>\n",
       "      <th>Close</th>\n",
       "      <th>Volume</th>\n",
       "      <th>Adj Close</th>\n",
       "    </tr>\n",
       "  </thead>\n",
       "  <tbody>\n",
       "    <tr>\n",
       "      <th>0</th>\n",
       "      <td>Jan 01, 2021</td>\n",
       "      <td>3,270.00</td>\n",
       "      <td>3,363.89</td>\n",
       "      <td>3,086.00</td>\n",
       "      <td>3,206.20</td>\n",
       "      <td>71,528,900</td>\n",
       "      <td>3,206.20</td>\n",
       "    </tr>\n",
       "    <tr>\n",
       "      <th>1</th>\n",
       "      <td>Dec 01, 2020</td>\n",
       "      <td>3,188.50</td>\n",
       "      <td>3,350.65</td>\n",
       "      <td>3,072.82</td>\n",
       "      <td>3,256.93</td>\n",
       "      <td>77,556,200</td>\n",
       "      <td>3,256.93</td>\n",
       "    </tr>\n",
       "    <tr>\n",
       "      <th>2</th>\n",
       "      <td>Nov 01, 2020</td>\n",
       "      <td>3,061.74</td>\n",
       "      <td>3,366.80</td>\n",
       "      <td>2,950.12</td>\n",
       "      <td>3,168.04</td>\n",
       "      <td>90,810,500</td>\n",
       "      <td>3,168.04</td>\n",
       "    </tr>\n",
       "    <tr>\n",
       "      <th>3</th>\n",
       "      <td>Oct 01, 2020</td>\n",
       "      <td>3,208.00</td>\n",
       "      <td>3,496.24</td>\n",
       "      <td>3,019.00</td>\n",
       "      <td>3,036.15</td>\n",
       "      <td>116,226,100</td>\n",
       "      <td>3,036.15</td>\n",
       "    </tr>\n",
       "    <tr>\n",
       "      <th>4</th>\n",
       "      <td>Sep 01, 2020</td>\n",
       "      <td>3,489.58</td>\n",
       "      <td>3,552.25</td>\n",
       "      <td>2,871.00</td>\n",
       "      <td>3,148.73</td>\n",
       "      <td>115,899,300</td>\n",
       "      <td>3,148.73</td>\n",
       "    </tr>\n",
       "  </tbody>\n",
       "</table>\n",
       "</div>"
      ],
      "text/plain": [
       "           Date      Open      High       Low     Close       Volume Adj Close\n",
       "0  Jan 01, 2021  3,270.00  3,363.89  3,086.00  3,206.20   71,528,900  3,206.20\n",
       "1  Dec 01, 2020  3,188.50  3,350.65  3,072.82  3,256.93   77,556,200  3,256.93\n",
       "2  Nov 01, 2020  3,061.74  3,366.80  2,950.12  3,168.04   90,810,500  3,168.04\n",
       "3  Oct 01, 2020  3,208.00  3,496.24  3,019.00  3,036.15  116,226,100  3,036.15\n",
       "4  Sep 01, 2020  3,489.58  3,552.25  2,871.00  3,148.73  115,899,300  3,148.73"
      ]
     },
     "execution_count": 21,
     "metadata": {},
     "output_type": "execute_result"
    }
   ],
   "source": [
    "amazon_data.head()"
   ]
  },
  {
   "cell_type": "markdown",
   "id": "81954fec-e98b-43e7-830a-f9eca93429a7",
   "metadata": {},
   "source": [
    "What are the names of the columns in the data frame?\n"
   ]
  },
  {
   "cell_type": "code",
   "execution_count": 22,
   "id": "f64a827a-3118-4eb1-9a16-c6ce67237d92",
   "metadata": {},
   "outputs": [
    {
     "data": {
      "text/plain": [
       "Index(['Date', 'Open', 'High', 'Low', 'Close', 'Volume', 'Adj Close'], dtype='object')"
      ]
     },
     "execution_count": 22,
     "metadata": {},
     "output_type": "execute_result"
    }
   ],
   "source": [
    "amazon_data.columns"
   ]
  },
  {
   "cell_type": "markdown",
   "id": "a176b471-b753-419b-b255-6eb0056bdbf0",
   "metadata": {},
   "source": [
    "What is the `Open` of the last row of the amazon_data data frame?\n"
   ]
  },
  {
   "cell_type": "code",
   "execution_count": 26,
   "id": "9596005c-7f68-45f0-8ef8-bc2f80619950",
   "metadata": {},
   "outputs": [
    {
     "data": {
      "text/html": [
       "<div>\n",
       "<style scoped>\n",
       "    .dataframe tbody tr th:only-of-type {\n",
       "        vertical-align: middle;\n",
       "    }\n",
       "\n",
       "    .dataframe tbody tr th {\n",
       "        vertical-align: top;\n",
       "    }\n",
       "\n",
       "    .dataframe thead th {\n",
       "        text-align: right;\n",
       "    }\n",
       "</style>\n",
       "<table border=\"1\" class=\"dataframe\">\n",
       "  <thead>\n",
       "    <tr style=\"text-align: right;\">\n",
       "      <th></th>\n",
       "      <th>Open</th>\n",
       "    </tr>\n",
       "  </thead>\n",
       "  <tbody>\n",
       "    <tr>\n",
       "      <th>56</th>\n",
       "      <td>663.92</td>\n",
       "    </tr>\n",
       "    <tr>\n",
       "      <th>57</th>\n",
       "      <td>590.49</td>\n",
       "    </tr>\n",
       "    <tr>\n",
       "      <th>58</th>\n",
       "      <td>556.29</td>\n",
       "    </tr>\n",
       "    <tr>\n",
       "      <th>59</th>\n",
       "      <td>578.15</td>\n",
       "    </tr>\n",
       "    <tr>\n",
       "      <th>60</th>\n",
       "      <td>656.29</td>\n",
       "    </tr>\n",
       "  </tbody>\n",
       "</table>\n",
       "</div>"
      ],
      "text/plain": [
       "      Open\n",
       "56  663.92\n",
       "57  590.49\n",
       "58  556.29\n",
       "59  578.15\n",
       "60  656.29"
      ]
     },
     "execution_count": 26,
     "metadata": {},
     "output_type": "execute_result"
    }
   ],
   "source": [
    "amazon_data[['Open']].tail()"
   ]
  },
  {
   "cell_type": "code",
   "execution_count": null,
   "id": "212910ba-739e-4adb-9933-433c7ca02816",
   "metadata": {},
   "outputs": [],
   "source": []
  }
 ],
 "metadata": {
  "kernelspec": {
   "display_name": "Python 3 (ipykernel)",
   "language": "python",
   "name": "python3"
  },
  "language_info": {
   "codemirror_mode": {
    "name": "ipython",
    "version": 3
   },
   "file_extension": ".py",
   "mimetype": "text/x-python",
   "name": "python",
   "nbconvert_exporter": "python",
   "pygments_lexer": "ipython3",
   "version": "3.12.8"
  }
 },
 "nbformat": 4,
 "nbformat_minor": 5
}
